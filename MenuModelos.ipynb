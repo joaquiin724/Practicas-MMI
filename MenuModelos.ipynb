{
 "cells": [
  {
   "cell_type": "markdown",
   "metadata": {},
   "source": [
    "# Modelo de Malthus #"
   ]
  },
  {
   "cell_type": "code",
   "execution_count": null,
   "metadata": {},
   "outputs": [],
   "source": [
    "def modelo_malthus(x0, r, n):\n",
    "  \"\"\"\n",
    "  Esta función implementa el modelo de crecimiento poblacional de Malthus.\n",
    "\n",
    "  Argumentos:\n",
    "    x0: La población inicial.\n",
    "    r: La tasa de crecimiento poblacional.\n",
    "    n: El número de iteraciones.\n",
    "\n",
    "  Retorna:\n",
    "    La población en la n-ésima iteración.\n",
    "  \"\"\"\n",
    "  poblacion = x0 * (1 + r)**n\n",
    "  return poblacion\n"
   ]
  },
  {
   "cell_type": "markdown",
   "metadata": {},
   "source": [
    "## Ejercicio 1 ##\n"
   ]
  },
  {
   "cell_type": "code",
   "execution_count": null,
   "metadata": {},
   "outputs": [
    {
     "ename": "",
     "evalue": "",
     "output_type": "error",
     "traceback": [
      "\u001b[1;31mRunning cells with 'Python 3.11.2' requires the ipykernel package.\n",
      "\u001b[1;31mRun the following command to install 'ipykernel' into the Python environment. \n",
      "\u001b[1;31mCommand: '/bin/python3 -m pip install ipykernel -U --user --force-reinstall'"
     ]
    }
   ],
   "source": [
    "C0 = 10000  # Capital inicial\n",
    "I = 0.07  # Tasa de interés anual\n",
    "n = 4  # Número de años\n",
    "\n",
    "C4 = C0 * (1 + I)**n\n",
    "print(f\"Capital final después de 4 años: {C4:.2f} euros\")\n"
   ]
  }
 ],
 "metadata": {
  "kernelspec": {
   "display_name": "Python 3",
   "language": "python",
   "name": "python3"
  },
  "language_info": {
   "name": "python",
   "version": "3.11.2"
  }
 },
 "nbformat": 4,
 "nbformat_minor": 2
}
